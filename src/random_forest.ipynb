{
 "cells": [
  {
   "cell_type": "markdown",
   "id": "c11a6dee",
   "metadata": {},
   "source": [
    "# Random Forest Classifier"
   ]
  },
  {
   "cell_type": "code",
   "id": "e3eab0c6",
   "metadata": {
    "ExecuteTime": {
     "end_time": "2025-05-27T22:47:40.273651Z",
     "start_time": "2025-05-27T22:47:40.249715Z"
    }
   },
   "source": [
    "from sklearn.ensemble import RandomForestClassifier\n",
    "from matplotlib import pyplot as plt\n",
    "from sklearn.model_selection import train_test_split\n",
    "from sklearn.model_selection import cross_val_score, KFold\n",
    "from sklearn.metrics import accuracy_score, classification_report\n",
    "\n",
    "import numpy as np\n",
    "import pandas as pd\n",
    "\n",
    "model = RandomForestClassifier(n_estimators=50, random_state=42, min_samples_split=5, min_samples_leaf=1, max_features='sqrt', max_depth=20)\n",
    "kf = KFold(n_splits=10, shuffle=True, random_state=42)\n",
    "df = pd.read_csv('..\\\\data\\\\data.csv')\n",
    "\n",
    "df = df[df['distance'] != 100]\n",
    "\n",
    "df.to_csv('..\\\\data\\\\data_cleaned.csv', index=False)\n",
    "\n",
    "\n",
    "\n",
    "\n",
    "# Definisco le variabili feature\n",
    "features = ['wind_direction', 'concentration', 'azimuth', 'U']\n",
    "X = df[features]\n",
    "# Definisco la variabile target\n",
    "y = df['distance']"
   ],
   "outputs": [],
   "execution_count": 49
  },
  {
   "cell_type": "code",
   "id": "a1a3d1dd",
   "metadata": {
    "ExecuteTime": {
     "end_time": "2025-05-27T22:47:42.467736Z",
     "start_time": "2025-05-27T22:47:42.454771Z"
    }
   },
   "source": [
    "X"
   ],
   "outputs": [
    {
     "data": {
      "text/plain": [
       "      wind_direction  concentration  azimuth     U\n",
       "0               0.42        0.01380     52.0  2.17\n",
       "1               0.42        0.03255     64.0  2.17\n",
       "2               0.42        0.00460     64.0  2.17\n",
       "3               0.42        0.03720     67.0  2.17\n",
       "4               0.42        0.01380     67.0  2.17\n",
       "...              ...            ...      ...   ...\n",
       "2292            2.50        0.15604    120.0  4.07\n",
       "2293            0.83        8.42240    123.0  4.07\n",
       "2295            1.25        3.28060    126.0  4.07\n",
       "2297            0.42        0.18800    129.0  4.07\n",
       "2299            0.42        0.03666    132.0  4.07\n",
       "\n",
       "[1520 rows x 4 columns]"
      ],
      "text/html": [
       "<div>\n",
       "<style scoped>\n",
       "    .dataframe tbody tr th:only-of-type {\n",
       "        vertical-align: middle;\n",
       "    }\n",
       "\n",
       "    .dataframe tbody tr th {\n",
       "        vertical-align: top;\n",
       "    }\n",
       "\n",
       "    .dataframe thead th {\n",
       "        text-align: right;\n",
       "    }\n",
       "</style>\n",
       "<table border=\"1\" class=\"dataframe\">\n",
       "  <thead>\n",
       "    <tr style=\"text-align: right;\">\n",
       "      <th></th>\n",
       "      <th>wind_direction</th>\n",
       "      <th>concentration</th>\n",
       "      <th>azimuth</th>\n",
       "      <th>U</th>\n",
       "    </tr>\n",
       "  </thead>\n",
       "  <tbody>\n",
       "    <tr>\n",
       "      <th>0</th>\n",
       "      <td>0.42</td>\n",
       "      <td>0.01380</td>\n",
       "      <td>52.0</td>\n",
       "      <td>2.17</td>\n",
       "    </tr>\n",
       "    <tr>\n",
       "      <th>1</th>\n",
       "      <td>0.42</td>\n",
       "      <td>0.03255</td>\n",
       "      <td>64.0</td>\n",
       "      <td>2.17</td>\n",
       "    </tr>\n",
       "    <tr>\n",
       "      <th>2</th>\n",
       "      <td>0.42</td>\n",
       "      <td>0.00460</td>\n",
       "      <td>64.0</td>\n",
       "      <td>2.17</td>\n",
       "    </tr>\n",
       "    <tr>\n",
       "      <th>3</th>\n",
       "      <td>0.42</td>\n",
       "      <td>0.03720</td>\n",
       "      <td>67.0</td>\n",
       "      <td>2.17</td>\n",
       "    </tr>\n",
       "    <tr>\n",
       "      <th>4</th>\n",
       "      <td>0.42</td>\n",
       "      <td>0.01380</td>\n",
       "      <td>67.0</td>\n",
       "      <td>2.17</td>\n",
       "    </tr>\n",
       "    <tr>\n",
       "      <th>...</th>\n",
       "      <td>...</td>\n",
       "      <td>...</td>\n",
       "      <td>...</td>\n",
       "      <td>...</td>\n",
       "    </tr>\n",
       "    <tr>\n",
       "      <th>2292</th>\n",
       "      <td>2.50</td>\n",
       "      <td>0.15604</td>\n",
       "      <td>120.0</td>\n",
       "      <td>4.07</td>\n",
       "    </tr>\n",
       "    <tr>\n",
       "      <th>2293</th>\n",
       "      <td>0.83</td>\n",
       "      <td>8.42240</td>\n",
       "      <td>123.0</td>\n",
       "      <td>4.07</td>\n",
       "    </tr>\n",
       "    <tr>\n",
       "      <th>2295</th>\n",
       "      <td>1.25</td>\n",
       "      <td>3.28060</td>\n",
       "      <td>126.0</td>\n",
       "      <td>4.07</td>\n",
       "    </tr>\n",
       "    <tr>\n",
       "      <th>2297</th>\n",
       "      <td>0.42</td>\n",
       "      <td>0.18800</td>\n",
       "      <td>129.0</td>\n",
       "      <td>4.07</td>\n",
       "    </tr>\n",
       "    <tr>\n",
       "      <th>2299</th>\n",
       "      <td>0.42</td>\n",
       "      <td>0.03666</td>\n",
       "      <td>132.0</td>\n",
       "      <td>4.07</td>\n",
       "    </tr>\n",
       "  </tbody>\n",
       "</table>\n",
       "<p>1520 rows × 4 columns</p>\n",
       "</div>"
      ]
     },
     "execution_count": 50,
     "metadata": {},
     "output_type": "execute_result"
    }
   ],
   "execution_count": 50
  },
  {
   "cell_type": "code",
   "id": "7ee71c3b",
   "metadata": {
    "ExecuteTime": {
     "end_time": "2025-05-27T22:47:45.582270Z",
     "start_time": "2025-05-27T22:47:44.396095Z"
    }
   },
   "source": [
    "X_train, X_test, y_train, y_test = train_test_split(X, y, test_size=0.2, random_state=32)\n",
    "# Faccio la cross-validation del modello\n",
    "cv_scores = cross_val_score(model, X_train, y_train, cv=kf, scoring='accuracy')\n",
    "print(\"Cross-validation scores:\", cv_scores)\n",
    "\n",
    "trained_model = model.fit(X_train, y_train)\n",
    "# Predizioni sul test set\n",
    "y_test_pred = trained_model.predict(X_test)\n",
    "# Valuto le prestazioni del modello\n",
    "accuracy = accuracy_score(y_test, y_test_pred)\n",
    "print(\"Test set accuracy:\", accuracy)\n",
    "print(\"Classification report:\\n\", classification_report(y_test, y_test_pred))"
   ],
   "outputs": [
    {
     "name": "stdout",
     "output_type": "stream",
     "text": [
      "Cross-validation scores: [0.96721311 0.86885246 0.93442623 0.89344262 0.90983607 0.8442623\n",
      " 0.9338843  0.85950413 0.90909091 0.90909091]\n",
      "Test set accuracy: 0.8947368421052632\n",
      "Classification report:\n",
      "               precision    recall  f1-score   support\n",
      "\n",
      "          50       0.89      0.94      0.91       180\n",
      "         200       0.91      0.82      0.86       124\n",
      "\n",
      "    accuracy                           0.89       304\n",
      "   macro avg       0.90      0.88      0.89       304\n",
      "weighted avg       0.90      0.89      0.89       304\n",
      "\n"
     ]
    }
   ],
   "execution_count": 51
  },
  {
   "cell_type": "code",
   "id": "8241630b",
   "metadata": {
    "ExecuteTime": {
     "end_time": "2025-05-27T22:47:49.329971Z",
     "start_time": "2025-05-27T22:47:49.199718Z"
    }
   },
   "source": [
    "# Feature importance\n",
    "importances = pd.DataFrame({\n",
    "    'Feature': features,\n",
    "    'Importance': trained_model.feature_importances_\n",
    "}).sort_values(by='Importance', ascending=False)\n",
    "# Plotto le feature importance\n",
    "plt.figure(figsize=(10, 6))\n",
    "plt.bar(importances['Feature'], importances['Importance'], color='skyblue')\n",
    "plt.title('Feature Importance')\n",
    "plt.xlabel('Features')\n",
    "plt.ylabel('Importance')\n",
    "plt.xticks(rotation=45)\n",
    "plt.tight_layout()\n",
    "plt.show()"
   ],
   "outputs": [
    {
     "data": {
      "text/plain": [
       "<Figure size 1000x600 with 1 Axes>"
      ],
      "image/png": "[encoded data removed]"
     },
     "metadata": {},
     "output_type": "display_data"
    }
   ],
   "execution_count": 52
  },
  {
   "cell_type": "code",
   "id": "db03b605",
   "metadata": {
    "ExecuteTime": {
     "end_time": "2025-05-27T22:47:51.282647Z",
     "start_time": "2025-05-27T22:47:51.264222Z"
    }
   },
   "source": [
    "# Metriche di valutazione\n",
    "from sklearn.metrics import accuracy_score, precision_score, recall_score, f1_score, classification_report\n",
    "\n",
    "print(\"Classification Report:\")\n",
    "print(\"Accuracy: \", accuracy_score(y_test, y_test_pred))\n"
   ],
   "outputs": [
    {
     "name": "stdout",
     "output_type": "stream",
     "text": [
      "Classification Report:\n",
      "Accuracy:  0.8947368421052632\n"
     ]
    }
   ],
   "execution_count": 53
  },
  {
   "cell_type": "code",
   "id": "a4a495a7",
   "metadata": {
    "ExecuteTime": {
     "end_time": "2025-05-27T22:48:36.902082Z",
     "start_time": "2025-05-27T22:48:36.889143Z"
    }
   },
   "source": [
    "# Predizione su nuovi dati\n",
    "def predict_distance( wind_direction, concentration, Wind_Speed, azimuth_degrees):\n",
    "    new_sample = pd.DataFrame([[ wind_direction, concentration, Wind_Speed, azimuth_degrees]], columns=features)\n",
    "    prediction = trained_model.predict(new_sample)[0]\n",
    "    probabilities = trained_model.predict_proba(new_sample)[0]\n",
    "    print(f\"Predicted distance: {prediction} metri\")\n",
    "    print(f\"Probabilities per classe:\")\n",
    "    for i, prob in enumerate(probabilities):\n",
    "        print(f\"Classe {i}: {prob:.2f}\")\n",
    "    return prediction"
   ],
   "outputs": [],
   "execution_count": 57
  },
  {
   "cell_type": "code",
   "id": "201dcb0d",
   "metadata": {
    "ExecuteTime": {
     "end_time": "2025-05-27T22:48:36.995243Z",
     "start_time": "2025-05-27T22:48:36.966213Z"
    }
   },
   "source": [
    "# Esempio di predizione\n",
    "predict_distance( wind_direction=45, concentration=5, Wind_Speed=10, azimuth_degrees=60)\n"
   ],
   "outputs": [
    {
     "name": "stdout",
     "output_type": "stream",
     "text": [
      "Predicted distance: 50 metri\n",
      "Probabilities per classe:\n",
      "Classe 0: 0.74\n",
      "Classe 1: 0.26\n"
     ]
    },
    {
     "data": {
      "text/plain": [
       "np.int64(50)"
      ]
     },
     "execution_count": 58,
     "metadata": {},
     "output_type": "execute_result"
    }
   ],
   "execution_count": 58
  },
  {
   "cell_type": "code",
   "id": "5d227c70",
   "metadata": {
    "ExecuteTime": {
     "end_time": "2025-05-27T22:48:36.856233Z",
     "start_time": "2025-05-27T22:47:55.070267Z"
    }
   },
   "source": [
    "# Ottimizzazione del modello\n",
    "from sklearn.model_selection import GridSearchCV\n",
    "param_grid = {\n",
    "    'n_estimators': [50, 100, 200],\n",
    "    'max_depth': [None, 10, 20],\n",
    "    'min_samples_split': [2, 5, 10],\n",
    "    'min_samples_leaf': [1, 2, 4],\n",
    "\n",
    "}\n",
    "\n",
    "grid_search = GridSearchCV(estimator=trained_model, param_grid=param_grid, cv=kf, scoring='accuracy', n_jobs=-1)\n",
    "grid_search.fit(X_train, y_train)\n",
    "print(\"Best parameters found: \", grid_search.best_params_)\n",
    "print(\"Best cross-validation score: \", grid_search.best_score_)"
   ],
   "outputs": [
    {
     "name": "stdout",
     "output_type": "stream",
     "text": [
      "Best parameters found:  {'max_depth': None, 'min_samples_leaf': 1, 'min_samples_split': 2, 'n_estimators': 50}\n",
      "Best cross-validation score:  0.9086912342501016\n"
     ]
    }
   ],
   "execution_count": 56
  }
 ],
 "metadata": {
  "kernelspec": {
   "display_name": "DA",
   "language": "python",
   "name": "python3"
  },
  "language_info": {
   "codemirror_mode": {
    "name": "ipython",
    "version": 3
   },
   "file_extension": ".py",
   "mimetype": "text/x-python",
   "name": "python",
   "nbconvert_exporter": "python",
   "pygments_lexer": "ipython3",
   "version": "3.13.3"
  }
 },
 "nbformat": 4,
 "nbformat_minor": 5
}
