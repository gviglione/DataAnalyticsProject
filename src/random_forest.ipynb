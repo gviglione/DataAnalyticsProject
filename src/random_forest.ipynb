{
 "cells": [
  {
   "cell_type": "markdown",
   "id": "c11a6dee",
   "metadata": {},
   "source": [
    "# Random Forest Classifier"
   ]
  },
  {
   "cell_type": "code",
   "execution_count": 46,
   "id": "e3eab0c6",
   "metadata": {},
   "outputs": [],
   "source": [
    "from sklearn.ensemble import RandomForestClassifier\n",
    "from matplotlib import pyplot as plt\n",
    "from sklearn.model_selection import train_test_split\n",
    "from sklearn.model_selection import cross_val_score, KFold\n",
    "from sklearn.metrics import accuracy_score, classification_report\n",
    "\n",
    "import numpy as np\n",
    "import pandas as pd\n",
    "\n",
    "model = RandomForestClassifier(n_estimators=50, random_state=42, min_samples_split=5, min_samples_leaf=1, max_features='sqrt', max_depth=20)\n",
    "kf = KFold(n_splits=10, shuffle=True, random_state=42)\n",
    "df = pd.read_csv('..\\\\data\\\\data.csv')\n",
    "\n",
    "df = df[df['concentration'] > 0]\n",
    "\n",
    "df = df.dropna(subset='wind_direction')\n",
    "\n",
    "df.to_csv('..\\\\data\\\\data_cleaned.csv', index=False)\n",
    "\n",
    "\n",
    "\n",
    "\n",
    "# Definisco le variabili feature\n",
    "features = ['wind_direction', 'concentration', 'Wind Speed', 'azimuth_degrees']\n",
    "X = df[features]\n",
    "# Definisco la variabile target\n",
    "y = df['distance']\n",
    "\n"
   ]
  },
  {
   "cell_type": "code",
   "execution_count": 19,
   "id": "a1a3d1dd",
   "metadata": {},
   "outputs": [
    {
     "data": {
      "text/html": [
       "<div>\n",
       "<style scoped>\n",
       "    .dataframe tbody tr th:only-of-type {\n",
       "        vertical-align: middle;\n",
       "    }\n",
       "\n",
       "    .dataframe tbody tr th {\n",
       "        vertical-align: top;\n",
       "    }\n",
       "\n",
       "    .dataframe thead th {\n",
       "        text-align: right;\n",
       "    }\n",
       "</style>\n",
       "<table border=\"1\" class=\"dataframe\">\n",
       "  <thead>\n",
       "    <tr style=\"text-align: right;\">\n",
       "      <th></th>\n",
       "      <th>wind_direction</th>\n",
       "      <th>concentration</th>\n",
       "      <th>Wind Speed</th>\n",
       "      <th>azimuth_degrees</th>\n",
       "    </tr>\n",
       "  </thead>\n",
       "  <tbody>\n",
       "    <tr>\n",
       "      <th>11</th>\n",
       "      <td>0.42</td>\n",
       "      <td>0.01380</td>\n",
       "      <td>1</td>\n",
       "      <td>52.0</td>\n",
       "    </tr>\n",
       "    <tr>\n",
       "      <th>21</th>\n",
       "      <td>0.42</td>\n",
       "      <td>0.03255</td>\n",
       "      <td>1</td>\n",
       "      <td>64.0</td>\n",
       "    </tr>\n",
       "    <tr>\n",
       "      <th>23</th>\n",
       "      <td>0.42</td>\n",
       "      <td>0.00460</td>\n",
       "      <td>1</td>\n",
       "      <td>64.0</td>\n",
       "    </tr>\n",
       "    <tr>\n",
       "      <th>24</th>\n",
       "      <td>0.42</td>\n",
       "      <td>0.03720</td>\n",
       "      <td>1</td>\n",
       "      <td>67.0</td>\n",
       "    </tr>\n",
       "    <tr>\n",
       "      <th>26</th>\n",
       "      <td>0.42</td>\n",
       "      <td>0.01380</td>\n",
       "      <td>1</td>\n",
       "      <td>67.0</td>\n",
       "    </tr>\n",
       "    <tr>\n",
       "      <th>...</th>\n",
       "      <td>...</td>\n",
       "      <td>...</td>\n",
       "      <td>...</td>\n",
       "      <td>...</td>\n",
       "    </tr>\n",
       "    <tr>\n",
       "      <th>4380</th>\n",
       "      <td>1.25</td>\n",
       "      <td>3.28060</td>\n",
       "      <td>10</td>\n",
       "      <td>126.0</td>\n",
       "    </tr>\n",
       "    <tr>\n",
       "      <th>4381</th>\n",
       "      <td>1.25</td>\n",
       "      <td>0.90428</td>\n",
       "      <td>10</td>\n",
       "      <td>126.0</td>\n",
       "    </tr>\n",
       "    <tr>\n",
       "      <th>4386</th>\n",
       "      <td>0.42</td>\n",
       "      <td>0.18800</td>\n",
       "      <td>10</td>\n",
       "      <td>129.0</td>\n",
       "    </tr>\n",
       "    <tr>\n",
       "      <th>4387</th>\n",
       "      <td>0.42</td>\n",
       "      <td>0.01692</td>\n",
       "      <td>10</td>\n",
       "      <td>129.0</td>\n",
       "    </tr>\n",
       "    <tr>\n",
       "      <th>4392</th>\n",
       "      <td>0.42</td>\n",
       "      <td>0.03666</td>\n",
       "      <td>10</td>\n",
       "      <td>132.0</td>\n",
       "    </tr>\n",
       "  </tbody>\n",
       "</table>\n",
       "<p>2304 rows × 4 columns</p>\n",
       "</div>"
      ],
      "text/plain": [
       "      wind_direction  concentration  Wind Speed  azimuth_degrees\n",
       "11              0.42        0.01380           1             52.0\n",
       "21              0.42        0.03255           1             64.0\n",
       "23              0.42        0.00460           1             64.0\n",
       "24              0.42        0.03720           1             67.0\n",
       "26              0.42        0.01380           1             67.0\n",
       "...              ...            ...         ...              ...\n",
       "4380            1.25        3.28060          10            126.0\n",
       "4381            1.25        0.90428          10            126.0\n",
       "4386            0.42        0.18800          10            129.0\n",
       "4387            0.42        0.01692          10            129.0\n",
       "4392            0.42        0.03666          10            132.0\n",
       "\n",
       "[2304 rows x 4 columns]"
      ]
     },
     "execution_count": 19,
     "metadata": {},
     "output_type": "execute_result"
    }
   ],
   "source": [
    "X"
   ]
  },
  {
   "cell_type": "code",
   "execution_count": 47,
   "id": "7ee71c3b",
   "metadata": {},
   "outputs": [
    {
     "name": "stdout",
     "output_type": "stream",
     "text": [
      "Cross-validation scores: [0.59459459 0.65945946 0.65405405 0.74456522 0.64673913 0.69565217\n",
      " 0.66847826 0.72826087 0.63043478 0.69021739]\n",
      "Test set accuracy: 0.7071583514099783\n",
      "Classification report:\n",
      "               precision    recall  f1-score   support\n",
      "\n",
      "          50       0.79      0.81      0.80       193\n",
      "         100       0.58      0.56      0.57       154\n",
      "         200       0.73      0.72      0.73       114\n",
      "\n",
      "    accuracy                           0.71       461\n",
      "   macro avg       0.70      0.70      0.70       461\n",
      "weighted avg       0.71      0.71      0.71       461\n",
      "\n"
     ]
    }
   ],
   "source": [
    "X_train, X_test, y_train, y_test = train_test_split(X, y, test_size=0.2, random_state=42)\n",
    "# Faccio la cross-validation del modello\n",
    "cv_scores = cross_val_score(model, X_train, y_train, cv=kf, scoring='accuracy')\n",
    "print(\"Cross-validation scores:\", cv_scores)\n",
    "\n",
    "trained_model = model.fit(X_train, y_train)\n",
    "# Predizioni sul test set\n",
    "y_test_pred = trained_model.predict(X_test)\n",
    "# Valuto le prestazioni del modello\n",
    "accuracy = accuracy_score(y_test, y_test_pred)\n",
    "print(\"Test set accuracy:\", accuracy)\n",
    "print(\"Classification report:\\n\", classification_report(y_test, y_test_pred))"
   ]
  },
  {
   "cell_type": "code",
   "execution_count": 39,
   "id": "8241630b",
   "metadata": {},
   "outputs": [
    {
     "data": {
      "image/png": "[encoded data removed]",
      "text/plain": [
       "<Figure size 1000x600 with 1 Axes>"
      ]
     },
     "metadata": {},
     "output_type": "display_data"
    }
   ],
   "source": [
    "\n",
    "\n",
    "# Feature importance\n",
    "importances = pd.DataFrame({\n",
    "    'Feature': features,\n",
    "    'Importance': trained_model.feature_importances_\n",
    "}).sort_values(by='Importance', ascending=False)\n",
    "# Plotto le feature importance\n",
    "plt.figure(figsize=(10, 6))\n",
    "plt.bar(importances['Feature'], importances['Importance'], color='skyblue')\n",
    "plt.title('Feature Importance')\n",
    "plt.xlabel('Features')\n",
    "plt.ylabel('Importance')\n",
    "plt.xticks(rotation=45)\n",
    "plt.tight_layout()\n",
    "plt.show()"
   ]
  },
  {
   "cell_type": "code",
   "execution_count": 16,
   "id": "db03b605",
   "metadata": {},
   "outputs": [
    {
     "name": "stdout",
     "output_type": "stream",
     "text": [
      "Classification Report:\n",
      "Accuracy:  0.6943089430894309\n"
     ]
    }
   ],
   "source": [
    "# Metriche di valutazione\n",
    "from sklearn.metrics import accuracy_score, precision_score, recall_score, f1_score, classification_report\n",
    "\n",
    "print(\"Classification Report:\")\n",
    "print(\"Accuracy: \", accuracy_score(y_test, y_test_pred))\n"
   ]
  },
  {
   "cell_type": "code",
   "execution_count": 17,
   "id": "a4a495a7",
   "metadata": {},
   "outputs": [],
   "source": [
    "# Predizione su nuovi dati\n",
    "def predict_distance( wind_direction, concentration, Wind_Speed, azimuth_degrees):\n",
    "    new_sample = pd.DataFrame([[ wind_direction, concentration, Wind_Speed, azimuth_degrees]], columns=features)\n",
    "    prediction = trained_model.predict(new_sample)[0]\n",
    "    probabilities = trained_model.predict_proba(new_sample)[0]\n",
    "    print(f\"Predicted distance: {prediction} metri\")\n",
    "    print(f\"Probabilities per classe:\")\n",
    "    for i, prob in enumerate(probabilities):\n",
    "        print(f\"Classe {i} m: {prob:.2f}\")\n",
    "    return prediction"
   ]
  },
  {
   "cell_type": "code",
   "execution_count": 57,
   "id": "201dcb0d",
   "metadata": {},
   "outputs": [
    {
     "name": "stdout",
     "output_type": "stream",
     "text": [
      "Predicted distance: 200 metri\n",
      "Probabilities per classe:\n",
      "Classe 0 m: 0.13\n",
      "Classe 1 m: 0.35\n",
      "Classe 2 m: 0.52\n"
     ]
    },
    {
     "data": {
      "text/plain": [
       "np.int64(200)"
      ]
     },
     "execution_count": 57,
     "metadata": {},
     "output_type": "execute_result"
    }
   ],
   "source": [
    "# Esempio di predizione\n",
    "predict_distance( wind_direction=45, concentration=5, Wind_Speed=10, azimuth_degrees=60)\n"
   ]
  },
  {
   "cell_type": "code",
   "execution_count": 23,
   "id": "5d227c70",
   "metadata": {},
   "outputs": [
    {
     "name": "stdout",
     "output_type": "stream",
     "text": [
      "Best parameters found:  {'max_depth': None, 'min_samples_leaf': 2, 'min_samples_split': 5, 'n_estimators': 200}\n",
      "Best cross-validation score:  0.6798736302580417\n"
     ]
    }
   ],
   "source": [
    "# Ottimizzazione del modello\n",
    "from sklearn.model_selection import GridSearchCV\n",
    "param_grid = {\n",
    "    'n_estimators': [50, 100, 200],\n",
    "    'max_depth': [None, 10, 20],\n",
    "    'min_samples_split': [2, 5, 10],\n",
    "    'min_samples_leaf': [1, 2, 4],\n",
    "\n",
    "}\n",
    "\n",
    "grid_search = GridSearchCV(estimator=trained_model, param_grid=param_grid, cv=kf, scoring='accuracy', n_jobs=-1)\n",
    "grid_search.fit(X_train, y_train)\n",
    "print(\"Best parameters found: \", grid_search.best_params_)\n",
    "print(\"Best cross-validation score: \", grid_search.best_score_)"
   ]
  }
 ],
 "metadata": {
  "kernelspec": {
   "display_name": "DA",
   "language": "python",
   "name": "python3"
  },
  "language_info": {
   "codemirror_mode": {
    "name": "ipython",
    "version": 3
   },
   "file_extension": ".py",
   "mimetype": "text/x-python",
   "name": "python",
   "nbconvert_exporter": "python",
   "pygments_lexer": "ipython3",
   "version": "3.13.3"
  }
 },
 "nbformat": 4,
 "nbformat_minor": 5
}
