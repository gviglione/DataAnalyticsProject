{
 "cells": [
  {
   "cell_type": "markdown",
   "id": "c11a6dee",
   "metadata": {},
   "source": [
    "# Random Forest Classifier"
   ]
  },
  {
   "cell_type": "code",
   "execution_count": 41,
   "id": "e3eab0c6",
   "metadata": {},
   "outputs": [],
   "source": [
    "from sklearn.ensemble import RandomForestClassifier\n",
    "from sklearn.model_selection import KFold, cross_val_score, cross_val_predict\n",
    "from matplotlib import pyplot as plt\n",
    "from sklearn.model_selection import train_test_split\n",
    "\n",
    "import numpy as np\n",
    "import pandas as pd\n",
    "\n",
    "model = RandomForestClassifier(n_estimators=100, random_state=42)\n",
    "df = pd.read_csv('..\\\\data\\\\data.csv')\n",
    "\n",
    "df = df[df['concentration'] > 0]\n",
    "\n",
    "\n",
    "# Definisco le variabili feature\n",
    "features = ['wind_direction', 'concentration', 'Wind Speed', 'azimuth_degrees']\n",
    "X = df[features]\n",
    "# Definisco la variabile target\n",
    "y = df['distance']\n",
    "\n"
   ]
  },
  {
   "cell_type": "code",
   "execution_count": null,
   "id": "a1a3d1dd",
   "metadata": {},
   "outputs": [
    {
     "data": {
      "text/html": [
       "<div>\n",
       "<style scoped>\n",
       "    .dataframe tbody tr th:only-of-type {\n",
       "        vertical-align: middle;\n",
       "    }\n",
       "\n",
       "    .dataframe tbody tr th {\n",
       "        vertical-align: top;\n",
       "    }\n",
       "\n",
       "    .dataframe thead th {\n",
       "        text-align: right;\n",
       "    }\n",
       "</style>\n",
       "<table border=\"1\" class=\"dataframe\">\n",
       "  <thead>\n",
       "    <tr style=\"text-align: right;\">\n",
       "      <th></th>\n",
       "      <th>wind_direction</th>\n",
       "      <th>concentration</th>\n",
       "      <th>Wind Speed</th>\n",
       "      <th>azimuth_degrees</th>\n",
       "    </tr>\n",
       "  </thead>\n",
       "  <tbody>\n",
       "    <tr>\n",
       "      <th>8</th>\n",
       "      <td>NaN</td>\n",
       "      <td>0.00920</td>\n",
       "      <td>1</td>\n",
       "      <td>49.0</td>\n",
       "    </tr>\n",
       "    <tr>\n",
       "      <th>11</th>\n",
       "      <td>0.42</td>\n",
       "      <td>0.01380</td>\n",
       "      <td>1</td>\n",
       "      <td>52.0</td>\n",
       "    </tr>\n",
       "    <tr>\n",
       "      <th>14</th>\n",
       "      <td>NaN</td>\n",
       "      <td>0.00460</td>\n",
       "      <td>1</td>\n",
       "      <td>55.0</td>\n",
       "    </tr>\n",
       "    <tr>\n",
       "      <th>17</th>\n",
       "      <td>NaN</td>\n",
       "      <td>0.00920</td>\n",
       "      <td>1</td>\n",
       "      <td>58.0</td>\n",
       "    </tr>\n",
       "    <tr>\n",
       "      <th>20</th>\n",
       "      <td>NaN</td>\n",
       "      <td>0.01380</td>\n",
       "      <td>1</td>\n",
       "      <td>61.0</td>\n",
       "    </tr>\n",
       "    <tr>\n",
       "      <th>...</th>\n",
       "      <td>...</td>\n",
       "      <td>...</td>\n",
       "      <td>...</td>\n",
       "      <td>...</td>\n",
       "    </tr>\n",
       "    <tr>\n",
       "      <th>4384</th>\n",
       "      <td>NaN</td>\n",
       "      <td>0.46060</td>\n",
       "      <td>10</td>\n",
       "      <td>127.5</td>\n",
       "    </tr>\n",
       "    <tr>\n",
       "      <th>4386</th>\n",
       "      <td>0.42</td>\n",
       "      <td>0.18800</td>\n",
       "      <td>10</td>\n",
       "      <td>129.0</td>\n",
       "    </tr>\n",
       "    <tr>\n",
       "      <th>4387</th>\n",
       "      <td>0.42</td>\n",
       "      <td>0.01692</td>\n",
       "      <td>10</td>\n",
       "      <td>129.0</td>\n",
       "    </tr>\n",
       "    <tr>\n",
       "      <th>4389</th>\n",
       "      <td>NaN</td>\n",
       "      <td>0.11233</td>\n",
       "      <td>10</td>\n",
       "      <td>130.5</td>\n",
       "    </tr>\n",
       "    <tr>\n",
       "      <th>4392</th>\n",
       "      <td>0.42</td>\n",
       "      <td>0.03666</td>\n",
       "      <td>10</td>\n",
       "      <td>132.0</td>\n",
       "    </tr>\n",
       "  </tbody>\n",
       "</table>\n",
       "<p>3071 rows × 4 columns</p>\n",
       "</div>"
      ],
      "text/plain": [
       "      wind_direction  concentration  Wind Speed  azimuth_degrees\n",
       "8                NaN        0.00920           1             49.0\n",
       "11              0.42        0.01380           1             52.0\n",
       "14               NaN        0.00460           1             55.0\n",
       "17               NaN        0.00920           1             58.0\n",
       "20               NaN        0.01380           1             61.0\n",
       "...              ...            ...         ...              ...\n",
       "4384             NaN        0.46060          10            127.5\n",
       "4386            0.42        0.18800          10            129.0\n",
       "4387            0.42        0.01692          10            129.0\n",
       "4389             NaN        0.11233          10            130.5\n",
       "4392            0.42        0.03666          10            132.0\n",
       "\n",
       "[3071 rows x 4 columns]"
      ]
     },
     "execution_count": 38,
     "metadata": {},
     "output_type": "execute_result"
    }
   ],
   "source": [
    "X"
   ]
  },
  {
   "cell_type": "code",
   "execution_count": 42,
   "id": "7ee71c3b",
   "metadata": {},
   "outputs": [
    {
     "name": "stdout",
     "output_type": "stream",
     "text": [
      "Test set accuracy: 0.6959349593495935\n",
      "Classification report:\n",
      "               precision    recall  f1-score   support\n",
      "\n",
      "          50       0.76      0.78      0.77       249\n",
      "         100       0.59      0.60      0.60       199\n",
      "         200       0.73      0.69      0.71       167\n",
      "\n",
      "    accuracy                           0.70       615\n",
      "   macro avg       0.69      0.69      0.69       615\n",
      "weighted avg       0.70      0.70      0.70       615\n",
      "\n"
     ]
    }
   ],
   "source": [
    "X_train, X_test, y_train, y_test = train_test_split(X, y, test_size=0.2, random_state=42)\n",
    "trained_model = model.fit(X_train, y_train)\n",
    "# Predizioni sul test set\n",
    "y_test_pred = trained_model.predict(X_test)\n",
    "# Valuto le prestazioni del modello\n",
    "accuracy = accuracy_score(y_test, y_test_pred)\n",
    "print(\"Test set accuracy:\", accuracy)\n",
    "print(\"Classification report:\\n\", classification_report(y_test, y_test_pred))"
   ]
  },
  {
   "cell_type": "code",
   "execution_count": null,
   "id": "8241630b",
   "metadata": {},
   "outputs": [
    {
     "data": {
      "image/png": "[encoded data removed]",
      "text/plain": [
       "<Figure size 1000x600 with 1 Axes>"
      ]
     },
     "metadata": {},
     "output_type": "display_data"
    }
   ],
   "source": [
    "# Alleno il modello\n",
    "model.fit(X, y)\n",
    "\n",
    "# Feature importance\n",
    "importances = pd.DataFrame({\n",
    "    'Feature': features,\n",
    "    'Importance': model.feature_importances_\n",
    "}).sort_values(by='Importance', ascending=False)\n",
    "# Plotto le feature importance\n",
    "plt.figure(figsize=(10, 6))\n",
    "plt.bar(importances['Feature'], importances['Importance'], color='skyblue')\n",
    "plt.title('Feature Importance')\n",
    "plt.xlabel('Features')\n",
    "plt.ylabel('Importance')\n",
    "plt.xticks(rotation=45)\n",
    "plt.tight_layout()\n",
    "plt.show()"
   ]
  },
  {
   "cell_type": "code",
   "execution_count": 28,
   "id": "db03b605",
   "metadata": {},
   "outputs": [
    {
     "name": "stdout",
     "output_type": "stream",
     "text": [
      "Classification Report:\n",
      "Accuracy:  0.5315192743764172\n",
      "Precision:  0.530883717303528\n",
      "Recall:  0.5315192743764172\n",
      "F1 Score:  0.5311938097942749\n"
     ]
    }
   ],
   "source": [
    "# Metriche di valutazione\n",
    "from sklearn.metrics import accuracy_score, precision_score, recall_score, f1_score, classification_report\n",
    "\n",
    "print(\"Classification Report:\")\n",
    "print(\"Accuracy: \", accuracy_score(y, y_pred))\n",
    "print(\"Precision: \", precision_score(y, y_pred, average='weighted'))\n",
    "print(\"Recall: \", recall_score(y, y_pred, average='weighted'))\n",
    "print(\"F1 Score: \", f1_score(y, y_pred, average='weighted')) "
   ]
  },
  {
   "cell_type": "code",
   "execution_count": 21,
   "id": "a4a495a7",
   "metadata": {},
   "outputs": [],
   "source": [
    "# Predizione su nuovi dati\n",
    "def predict_distance( wind_direction, concentration, Wind_Speed, azimuth_degrees):\n",
    "    new_sample = pd.DataFrame([[ wind_direction, concentration, Wind_Speed, azimuth_degrees]], columns=features)\n",
    "    prediction = model.predict(new_sample)[0]\n",
    "    probabilities = model.predict_proba(new_sample)[0]\n",
    "    print(f\"Predicted distance: {prediction} metri\")\n",
    "    print(f\"Probabilities per classe:\")\n",
    "    for i, prob in enumerate(probabilities):\n",
    "        print(f\"Classe {i} m: {prob:.2f}\")\n",
    "    return prediction"
   ]
  },
  {
   "cell_type": "code",
   "execution_count": null,
   "id": "201dcb0d",
   "metadata": {},
   "outputs": [
    {
     "name": "stdout",
     "output_type": "stream",
     "text": [
      "Predicted distance: 200 metri\n",
      "Probabilities per classe:\n",
      "Classe 0 m: 0.04\n",
      "Classe 1 m: 0.26\n",
      "Classe 2 m: 0.70\n"
     ]
    },
    {
     "data": {
      "text/plain": [
       "np.int64(200)"
      ]
     },
     "execution_count": 26,
     "metadata": {},
     "output_type": "execute_result"
    }
   ],
   "source": [
    "# Esempio di predizione\n",
    "predict_distance( wind_direction=45, concentration=5, Wind_Speed=10, azimuth_degrees=60)\n"
   ]
  }
 ],
 "metadata": {
  "kernelspec": {
   "display_name": "DA",
   "language": "python",
   "name": "python3"
  },
  "language_info": {
   "codemirror_mode": {
    "name": "ipython",
    "version": 3
   },
   "file_extension": ".py",
   "mimetype": "text/x-python",
   "name": "python",
   "nbconvert_exporter": "python",
   "pygments_lexer": "ipython3",
   "version": "3.13.3"
  }
 },
 "nbformat": 4,
 "nbformat_minor": 5
}
