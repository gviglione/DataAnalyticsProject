{
 "cells": [
  {
   "cell_type": "markdown",
   "id": "c11a6dee",
   "metadata": {},
   "source": [
    "# Random Forest Classifier"
   ]
  },
  {
   "cell_type": "code",
   "id": "e3eab0c6",
   "metadata": {
    "ExecuteTime": {
     "end_time": "2025-05-28T01:50:52.655895Z",
     "start_time": "2025-05-28T01:50:52.621986Z"
    }
   },
   "outputs": [],
   "source": [
    "from sklearn.ensemble import RandomForestClassifier\n",
    "from matplotlib import pyplot as plt\n",
    "from sklearn.model_selection import train_test_split\n",
    "from sklearn.model_selection import cross_val_score, KFold\n",
    "from sklearn.metrics import accuracy_score, classification_report\n",
    "\n",
    "import numpy as np\n",
    "import pandas as pd\n",
    "\n",
    "model = RandomForestClassifier(n_estimators=50, random_state=42, min_samples_split=5, min_samples_leaf=1, max_features='sqrt', max_depth=20)\n",
    "kf = KFold(n_splits=10, shuffle=True, random_state=42)\n",
    "df = pd.read_csv('..\\\\data\\\\data.csv')\n",
    "\n",
    "\n",
    "\n",
    "\n",
    "\n",
    "\n",
    "# Definisco le variabili feature\n",
    "features = ['wind_direction', 'concentration', 'U']\n",
    "target = 'distance'\n",
    "X = df[features]\n",
    "# Definisco la variabile target\n",
    "y = df[target]\n",
    "\n"
   ]
  },
  {
   "cell_type": "code",
   "id": "a1a3d1dd",
   "metadata": {
    "ExecuteTime": {
     "end_time": "2025-05-28T01:50:55.976437Z",
     "start_time": "2025-05-28T01:50:55.945520Z"
    }
   },
   "outputs": [
    {
     "name": "stdout",
     "output_type": "stream",
     "text": [
      "distance\n",
      "50     1081\n",
      "100     963\n",
      "200     792\n",
      "Name: count, dtype: int64\n"
     ]
    }
   ],
   "source": [
    "#Stampo la distribuzione delle classsi\n",
    "print(y.value_counts())"
   ]
  },
  {
   "cell_type": "code",
   "id": "7ee71c3b",
   "metadata": {
    "ExecuteTime": {
     "end_time": "2025-05-28T01:51:02.582627Z",
     "start_time": "2025-05-28T01:51:00.423623Z"
    }
   },
   "outputs": [
    {
     "name": "stdout",
     "output_type": "stream",
     "text": [
      "Cross-validation scores: [0.72687225 0.69823789 0.69823789 0.66666667 0.70860927]\n",
      "Test set accuracy: 0.7147887323943662\n",
      "Classification report:\n",
      "               precision    recall  f1-score   support\n",
      "\n",
      "          50       0.77      0.80      0.79       234\n",
      "         100       0.59      0.61      0.60       182\n",
      "         200       0.78      0.70      0.74       152\n",
      "\n",
      "    accuracy                           0.71       568\n",
      "   macro avg       0.71      0.71      0.71       568\n",
      "weighted avg       0.72      0.71      0.71       568\n",
      "\n"
     ]
    }
   ],
   "source": [
    "X_train, X_test, y_train, y_test = train_test_split(X, y, test_size=0.2, random_state=42)\n",
    "# Faccio la cross-validation del modello\n",
    "cv_scores = cross_val_score(model, X_train, y_train, cv=kf, scoring='accuracy')\n",
    "print(\"Cross-validation scores:\", cv_scores)\n",
    "\n",
    "trained_model = model.fit(X_train, y_train)\n",
    "# Predizioni sul test set\n",
    "y_test_pred = trained_model.predict(X_test)\n",
    "# Valuto le prestazioni del modello\n",
    "accuracy = accuracy_score(y_test, y_test_pred)\n",
    "print(\"Test set accuracy:\", accuracy)\n",
    "print(\"Classification report:\\n\", classification_report(y_test, y_test_pred))"
   ],
   "outputs": [
    {
     "name": "stdout",
     "output_type": "stream",
     "text": [
      "Cross-validation scores: [0.96721311 0.86885246 0.93442623 0.89344262 0.90983607 0.8442623\n",
      " 0.9338843  0.85950413 0.90909091 0.90909091]\n",
      "Test set accuracy: 0.8947368421052632\n",
      "Classification report:\n",
      "               precision    recall  f1-score   support\n",
      "\n",
      "          50       0.89      0.94      0.91       180\n",
      "         200       0.91      0.82      0.86       124\n",
      "\n",
      "    accuracy                           0.89       304\n",
      "   macro avg       0.90      0.88      0.89       304\n",
      "weighted avg       0.90      0.89      0.89       304\n",
      "\n"
     ]
    }
   ],
   "execution_count": 51
  },
  {
   "cell_type": "code",
   "id": "8241630b",
   "metadata": {
    "ExecuteTime": {
     "end_time": "2025-05-28T01:51:17.264752Z",
     "start_time": "2025-05-28T01:51:17.062053Z"
    }
   },
   "outputs": [
    {
     "data": {
      "image/png": "[encoded data removed]",
      "text/plain": [
       "<Figure size 1000x600 with 1 Axes>"
      ]
     },
     "metadata": {},
     "output_type": "display_data"
    }
   ],
   "source": [
    "\n",
    "\n",
    "# Feature importance\n",
    "importances = pd.DataFrame({\n",
    "    'Feature': features,\n",
    "    'Importance': trained_model.feature_importances_\n",
    "}).sort_values(by='Importance', ascending=False)\n",
    "# Plotto le feature importance\n",
    "plt.figure(figsize=(10, 6))\n",
    "plt.bar(importances['Feature'], importances['Importance'], color='skyblue')\n",
    "plt.title('Feature Importance')\n",
    "plt.xlabel('Features')\n",
    "plt.ylabel('Importance')\n",
    "plt.xticks(rotation=45)\n",
    "plt.tight_layout()\n",
    "plt.show()"
   ]
  },
  {
   "cell_type": "code",
   "id": "db03b605",
   "metadata": {
    "ExecuteTime": {
     "end_time": "2025-05-28T01:51:22.124983Z",
     "start_time": "2025-05-28T01:51:22.118029Z"
    }
   },
   "outputs": [
    {
     "name": "stdout",
     "output_type": "stream",
     "text": [
      "Classification Report:\n",
      "Accuracy:  0.7147887323943662\n"
     ]
    }
   ],
   "source": [
    "# Metriche di valutazione\n",
    "from sklearn.metrics import accuracy_score, precision_score, recall_score, f1_score, classification_report\n",
    "\n",
    "print(\"Classification Report:\")\n",
    "print(\"Accuracy: \", accuracy_score(y_test, y_test_pred))\n"
   ]
  },
  {
   "cell_type": "code",
   "id": "a4a495a7",
   "metadata": {
    "ExecuteTime": {
     "end_time": "2025-05-28T01:51:37.564563Z",
     "start_time": "2025-05-28T01:51:37.546610Z"
    }
   },
   "outputs": [],
   "source": [
    "# Predizione su nuovi dati\n",
    "def predict_distance( wind_direction, concentration, Wind_Speed):\n",
    "    new_sample = pd.DataFrame([[ wind_direction, concentration, Wind_Speed]], columns=features)\n",
    "    prediction = trained_model.predict(new_sample)[0]\n",
    "    probabilities = trained_model.predict_proba(new_sample)[0]\n",
    "    print(f\"Predicted distance: {prediction} metri\")\n",
    "    print(f\"Probabilities per classe:\")\n",
    "    for i, prob in enumerate(probabilities):\n",
    "        print(f\"Classe {i} m: {prob:.2f}\")\n",
    "    return prediction"
   ]
  },
  {
   "cell_type": "code",
   "id": "201dcb0d",
   "metadata": {
    "ExecuteTime": {
     "end_time": "2025-05-28T01:51:40.267532Z",
     "start_time": "2025-05-28T01:51:40.239580Z"
    }
   },
   "outputs": [
    {
     "name": "stdout",
     "output_type": "stream",
     "text": [
      "Predicted distance: 100 metri\n",
      "Probabilities per classe:\n",
      "Classe 0 m: 0.44\n",
      "Classe 1 m: 0.52\n",
      "Classe 2 m: 0.04\n"
     ]
    },
    {
     "data": {
      "text/plain": [
       "np.int64(100)"
      ]
     },
     "execution_count": 58,
     "metadata": {},
     "output_type": "execute_result"
    }
   ],
   "source": [
    "# Esempio di predizione\n",
    "predict_distance( wind_direction=45, concentration=5, Wind_Speed=10)\n"
   ]
  },
  {
   "cell_type": "code",
   "id": "5d227c70",
   "metadata": {
    "ExecuteTime": {
     "end_time": "2025-05-28T01:53:02.541151Z",
     "start_time": "2025-05-28T01:51:43.803180Z"
    }
   },
   "outputs": [
    {
     "name": "stdout",
     "output_type": "stream",
     "text": [
      "Best parameters found:  {'max_depth': 20, 'min_samples_leaf': 1, 'min_samples_split': 5, 'n_estimators': 50}\n",
      "Best cross-validation score:  0.6997247911621981\n"
     ]
    }
   ],
   "source": [
    "# Ottimizzazione del modello\n",
    "from sklearn.model_selection import GridSearchCV\n",
    "param_grid = {\n",
    "    'n_estimators': [50, 100, 200],\n",
    "    'max_depth': [None, 10, 20],\n",
    "    'min_samples_split': [2, 5, 10],\n",
    "    'min_samples_leaf': [1, 2, 4],\n",
    "\n",
    "}\n",
    "\n",
    "grid_search = GridSearchCV(estimator=trained_model, param_grid=param_grid, cv=kf, scoring='accuracy', n_jobs=-1)\n",
    "grid_search.fit(X_train, y_train)\n",
    "print(\"Best parameters found: \", grid_search.best_params_)\n",
    "print(\"Best cross-validation score: \", grid_search.best_score_)"
   ],
   "outputs": [
    {
     "name": "stdout",
     "output_type": "stream",
     "text": [
      "Best parameters found:  {'max_depth': None, 'min_samples_leaf': 1, 'min_samples_split': 2, 'n_estimators': 50}\n",
      "Best cross-validation score:  0.9086912342501016\n"
     ]
    }
   ],
   "execution_count": 56
  }
 ],
 "metadata": {
  "kernelspec": {
   "display_name": "DA",
   "language": "python",
   "name": "python3"
  },
  "language_info": {
   "codemirror_mode": {
    "name": "ipython",
    "version": 3
   },
   "file_extension": ".py",
   "mimetype": "text/x-python",
   "name": "python",
   "nbconvert_exporter": "python",
   "pygments_lexer": "ipython3",
   "version": "3.13.3"
  }
 },
 "nbformat": 4,
 "nbformat_minor": 5
}
